{
 "cells": [
  {
   "cell_type": "markdown",
   "metadata": {
    "slideshow": {
     "slide_type": "slide"
    }
   },
   "source": [
    "# Make School 2017 Summer Feedback Analysis"
   ]
  },
  {
   "cell_type": "code",
   "execution_count": 509,
   "metadata": {
    "slideshow": {
     "slide_type": "slide"
    }
   },
   "outputs": [],
   "source": [
    "import pandas as pd\n",
    "import numpy as np\n",
    "import matplotlib.pyplot as plt\n",
    "import seaborn as sns\n",
    "import collections"
   ]
  },
  {
   "cell_type": "code",
   "execution_count": 510,
   "metadata": {
    "slideshow": {
     "slide_type": "fragment"
    }
   },
   "outputs": [],
   "source": [
    "PATH = \"./Student Feedback Surveys-Superview.csv\"\n",
    "\n",
    "df = pd.read_csv(PATH)"
   ]
  },
  {
   "cell_type": "code",
   "execution_count": 511,
   "metadata": {
    "scrolled": true,
    "slideshow": {
     "slide_type": "slide"
    }
   },
   "outputs": [
    {
     "name": "stdout",
     "output_type": "stream",
     "text": [
      "['ID', 'Location', 'Track', 'Week', 'Rating (Num)', 'Schedule Pacing']\n",
      "1453\n"
     ]
    }
   ],
   "source": [
    "print(list(df))\n",
    "print(len(df))"
   ]
  },
  {
   "cell_type": "code",
   "execution_count": 512,
   "metadata": {
    "slideshow": {
     "slide_type": "fragment"
    }
   },
   "outputs": [
    {
     "data": {
      "text/plain": [
       "\"['Apps, Explorer' 'Apps' 'Games' nan 'VR' 'Games, Explorer']\""
      ]
     },
     "execution_count": 512,
     "metadata": {},
     "output_type": "execute_result"
    }
   ],
   "source": [
    "str(df.Track.unique())"
   ]
  },
  {
   "cell_type": "code",
   "execution_count": 513,
   "metadata": {
    "scrolled": true,
    "slideshow": {
     "slide_type": "fragment"
    }
   },
   "outputs": [
    {
     "data": {
      "text/plain": [
       "\"['San Francisco' 'Los Angeles' nan 'New York City' 'Redwood City'\\n 'Santa Clara' 'Oakland' 'Washington DC' 'Chicago' 'Atlanta' 'Hong Kong'\\n 'Beijing' 'Tokyo']\""
      ]
     },
     "execution_count": 513,
     "metadata": {},
     "output_type": "execute_result"
    }
   ],
   "source": [
    "str(df.Location.unique())\n"
   ]
  },
  {
   "cell_type": "markdown",
   "metadata": {
    "slideshow": {
     "slide_type": "slide"
    }
   },
   "source": [
    "## Cleaning"
   ]
  },
  {
   "cell_type": "code",
   "execution_count": 605,
   "metadata": {
    "slideshow": {
     "slide_type": "subslide"
    }
   },
   "outputs": [],
   "source": [
    "df = df.rename(columns={\"Rating (Num)\": \"Rating\"})\n",
    "df = df.rename(columns={\"Schedule Pacing\": \"Pacing\"})\n",
    "df = df[df.Rating != \"#ERROR!\"]\n",
    "df = df.dropna()"
   ]
  },
  {
   "cell_type": "markdown",
   "metadata": {
    "slideshow": {
     "slide_type": "slide"
    }
   },
   "source": [
    "## Data"
   ]
  },
  {
   "cell_type": "markdown",
   "metadata": {
    "slideshow": {
     "slide_type": "slide"
    }
   },
   "source": [
    "#### Mean"
   ]
  },
  {
   "cell_type": "code",
   "execution_count": 619,
   "metadata": {
    "slideshow": {
     "slide_type": "fragment"
    }
   },
   "outputs": [
    {
     "name": "stdout",
     "output_type": "stream",
     "text": [
      "8.431009957325747\n"
     ]
    }
   ],
   "source": [
    "ratings = df['Rating'].values\n",
    "s_rating = 0\n",
    "for i in ratings: \n",
    "    s_rating += int(i)\n",
    "    \n",
    "mean_rating = s_rating / len(ratings)\n",
    "print(mean_rating)"
   ]
  },
  {
   "cell_type": "markdown",
   "metadata": {
    "slideshow": {
     "slide_type": "slide"
    }
   },
   "source": [
    "#### Ratings histogram"
   ]
  },
  {
   "cell_type": "code",
   "execution_count": 516,
   "metadata": {
    "slideshow": {
     "slide_type": "fragment"
    }
   },
   "outputs": [
    {
     "name": "stdout",
     "output_type": "stream",
     "text": [
      "{3: 8, 4: 11, 5: 33, 6: 56, 7: 167, 8: 387, 9: 376, 10: 363, 1: 2, 2: 2, 0: 1}\n"
     ]
    }
   ],
   "source": [
    "ratings_hist = dict()\n",
    "for i in ratings:\n",
    "    try:\n",
    "        ratings_hist[int(i)] += 1\n",
    "    except:\n",
    "        ratings_hist[int(i)] = 1\n",
    "print(ratings_hist)"
   ]
  },
  {
   "cell_type": "markdown",
   "metadata": {
    "slideshow": {
     "slide_type": "slide"
    }
   },
   "source": [
    "#### NPS score"
   ]
  },
  {
   "cell_type": "code",
   "execution_count": 517,
   "metadata": {
    "slideshow": {
     "slide_type": "fragment"
    }
   },
   "outputs": [
    {
     "name": "stdout",
     "output_type": "stream",
     "text": [
      "There were 626 more promoters than detractors in the 2017 summer academy responses\n",
      "passive response: 554\n",
      "NPS = 44.52% = (( 739 - 113 ) / 1406) * 100\n"
     ]
    }
   ],
   "source": [
    "detractors = 0\n",
    "passives = 0\n",
    "promoters = 0\n",
    "\n",
    "for i in ratings_hist.keys():\n",
    "    if i < 7:\n",
    "        detractors += ratings_hist[i]\n",
    "    elif i >= 7 and i <= 8:\n",
    "        passives += ratings_hist[i]\n",
    "    if i > 8:\n",
    "        promoters += ratings_hist[i]\n",
    "\n",
    "NPS = (promoters - detractors) / len(ratings) * 100\n",
    "print(\"There were {} more promoters than detractors in the 2017 summer academy responses\".format(promoters - detractors))\n",
    "print(\"passive response: {}\".format(passives))\n",
    "print(\"NPS = {}% = (( {} - {} ) / {}) * 100\".format(round(NPS, 2), promoters, detractors, len(ratings)))\n"
   ]
  },
  {
   "cell_type": "markdown",
   "metadata": {
    "slideshow": {
     "slide_type": "slide"
    }
   },
   "source": [
    "## Visualizations"
   ]
  },
  {
   "cell_type": "markdown",
   "metadata": {
    "slideshow": {
     "slide_type": "subslide"
    }
   },
   "source": [
    "### Ratings histogram"
   ]
  },
  {
   "cell_type": "code",
   "execution_count": 518,
   "metadata": {
    "scrolled": false,
    "slideshow": {
     "slide_type": "fragment"
    }
   },
   "outputs": [
    {
     "data": {
      "image/png": "[encoded data removed]",
      "text/plain": [
       "<Figure size 432x288 with 1 Axes>"
      ]
     },
     "metadata": {},
     "output_type": "display_data"
    }
   ],
   "source": [
    "plt.bar(*zip(*sorted(ratings_hist.items())))\n",
    "plt.ylabel(\"Number of responses\")\n",
    "plt.xlabel(\"Rating\")\n",
    "plt.show()"
   ]
  },
  {
   "cell_type": "markdown",
   "metadata": {
    "slideshow": {
     "slide_type": "slide"
    }
   },
   "source": [
    "### Promoter to detractor per track (ratio)"
   ]
  },
  {
   "cell_type": "code",
   "execution_count": 519,
   "metadata": {
    "slideshow": {
     "slide_type": "fragment"
    }
   },
   "outputs": [
    {
     "name": "stdout",
     "output_type": "stream",
     "text": [
      "{'Apps, Explorer': 3.7916666666666665, 'Apps': 5.615384615384615, 'Games': 14.777777777777779, 'VR': 23.0, 'Games, Explorer': 31.0}\n"
     ]
    }
   ],
   "source": [
    "def track_promoters_to_detractors():\n",
    "    result = dict()\n",
    "    for track in df.Track.unique():\n",
    "        detractors = 0\n",
    "        promoters = 0\n",
    "        \n",
    "        for i in df[df['Track'] == track]['Rating'].values:\n",
    "            if int(i) > 8:\n",
    "                promoters += 1\n",
    "            elif int(i) < 7:\n",
    "                detractors += 1\n",
    "\n",
    "        if detractors == 0:\n",
    "            result[track] = promoters / 1\n",
    "        else:\n",
    "            result[track] = promoters / detractors\n",
    "            \n",
    "    return result\n",
    "        \n",
    "track_pd_ratio = track_promoters_to_detractors()"
   ]
  },
  {
   "cell_type": "code",
   "execution_count": 520,
   "metadata": {
    "scrolled": true,
    "slideshow": {
     "slide_type": "subslide"
    }
   },
   "outputs": [
    {
     "data": {
      "image/png": "[encoded data removed]",
      "text/plain": [
       "<Figure size 432x288 with 1 Axes>"
      ]
     },
     "metadata": {},
     "output_type": "display_data"
    },
    {
     "name": "stdout",
     "output_type": "stream",
     "text": [
      "The Games Explorer track had the highest promoter to detractor ratio\n"
     ]
    }
   ],
   "source": [
    "sns.set()\n",
    "plt.bar(track_pd_ratio.keys(), track_pd_ratio.values())\n",
    "plt.ylabel(\"Promoter - Detractor ratio\")\n",
    "plt.xlabel(\"Track\")\n",
    "plt.show()\n",
    "print(\"The Games Explorer track had the highest promoter to detractor ratio\")"
   ]
  },
  {
   "cell_type": "markdown",
   "metadata": {
    "slideshow": {
     "slide_type": "slide"
    }
   },
   "source": [
    "### Student experience as the academy progresses (average)"
   ]
  },
  {
   "cell_type": "code",
   "execution_count": 521,
   "metadata": {
    "slideshow": {
     "slide_type": "fragment"
    }
   },
   "outputs": [
    {
     "name": "stdout",
     "output_type": "stream",
     "text": [
      "{'Week 1': 8.264492753623188, 'Week 7': 8.61344537815126, 'Week 2': 8.409961685823754, 'Week 3': 8.540772532188841, 'Week 4': 8.328042328042327, 'Week 5': 8.448863636363637, 'Week 6': 8.531468531468532, 'Week 8': 9.11111111111111}\n"
     ]
    }
   ],
   "source": [
    "week_series = dict()\n",
    "for week in df.Week.unique():\n",
    "    mean = df[df['Week'] == week]['Rating'].values.astype(int).mean() \n",
    "    week_series[week] = mean\n",
    "print(week_series)"
   ]
  },
  {
   "cell_type": "code",
   "execution_count": 522,
   "metadata": {
    "slideshow": {
     "slide_type": "subslide"
    }
   },
   "outputs": [
    {
     "data": {
      "image/png": "[encoded data removed]",
      "text/plain": [
       "<Figure size 432x288 with 1 Axes>"
      ]
     },
     "metadata": {},
     "output_type": "display_data"
    }
   ],
   "source": [
    "plt.plot(week_series.keys(), week_series.values())\n",
    "plt.ylabel('rating (average)')\n",
    "plt.show()"
   ]
  },
  {
   "cell_type": "markdown",
   "metadata": {
    "slideshow": {
     "slide_type": "slide"
    }
   },
   "source": [
    "### Student experience by location (average)"
   ]
  },
  {
   "cell_type": "code",
   "execution_count": 636,
   "metadata": {
    "slideshow": {
     "slide_type": "fragment"
    }
   },
   "outputs": [],
   "source": [
    "location_series = dict()\n",
    "for location in df.Location.unique():\n",
    "    mean = df[df['Location'] == location]['Rating'].values.astype(int).mean()\n",
    "    location_series[location] = mean"
   ]
  },
  {
   "cell_type": "code",
   "execution_count": 634,
   "metadata": {
    "slideshow": {
     "slide_type": "subslide"
    }
   },
   "outputs": [
    {
     "data": {
      "image/png": "[encoded data removed]",
      "text/plain": [
       "<Figure size 1008x432 with 1 Axes>"
      ]
     },
     "metadata": {},
     "output_type": "display_data"
    }
   ],
   "source": [
    "fig = plt.figure(figsize=(14,6))\n",
    "axes= fig.add_axes([0.1,0.1,1.0,1.0])\n",
    "axes.bar(location_series.keys(), location_series.values())\n",
    "plt.xlabel(\"cities\")\n",
    "plt.ylabel(\"rating (average normalized)\")\n",
    "plt.show()"
   ]
  },
  {
   "cell_type": "markdown",
   "metadata": {
    "slideshow": {
     "slide_type": "slide"
    }
   },
   "source": [
    "### What did the detractors think about the pace?"
   ]
  },
  {
   "cell_type": "code",
   "execution_count": 637,
   "metadata": {
    "slideshow": {
     "slide_type": "fragment"
    }
   },
   "outputs": [],
   "source": [
    "pacing_series = collections.Counter()\n",
    "d_pacing = df[df['Rating'].astype(int) < 7]['Pacing'].values\n",
    "for pace in d_pacing:\n",
    "    pacing_series[pace] += 1"
   ]
  },
  {
   "cell_type": "code",
   "execution_count": 530,
   "metadata": {
    "slideshow": {
     "slide_type": "subslide"
    }
   },
   "outputs": [
    {
     "data": {
      "text/plain": [
       "<matplotlib.patches.Circle at 0x1a27b69940>"
      ]
     },
     "execution_count": 530,
     "metadata": {},
     "output_type": "execute_result"
    },
    {
     "data": {
      "image/png": "[encoded data removed]",
      "text/plain": [
       "<Figure size 720x360 with 1 Axes>"
      ]
     },
     "metadata": {},
     "output_type": "display_data"
    }
   ],
   "source": [
    "fig, axs = plt.subplots(figsize=(10, 5))\n",
    "plt.pie(pacing_series.values(), labels=df.Pacing.unique())\n",
    "centre_circle = plt.Circle((0,0),0.75,color='black', fc='white',linewidth=1.25)\n",
    "fig = plt.gcf()\n",
    "fig.gca().add_artist(centre_circle)"
   ]
  },
  {
   "cell_type": "markdown",
   "metadata": {
    "slideshow": {
     "slide_type": "slide"
    }
   },
   "source": [
    "### Detractor rating spread"
   ]
  },
  {
   "cell_type": "code",
   "execution_count": 638,
   "metadata": {
    "slideshow": {
     "slide_type": "fragment"
    }
   },
   "outputs": [],
   "source": [
    "d_ratings = df[df['Rating'].astype(int) < 7]['Rating'].values.astype(int)\n",
    "d_ratings_series = collections.Counter()\n",
    "for i in d_ratings:\n",
    "    d_ratings_series[int(i)] += 1"
   ]
  },
  {
   "cell_type": "code",
   "execution_count": 576,
   "metadata": {
    "slideshow": {
     "slide_type": "subslide"
    }
   },
   "outputs": [
    {
     "data": {
      "text/plain": [
       "<function matplotlib.pyplot.show(*args, **kw)>"
      ]
     },
     "execution_count": 576,
     "metadata": {},
     "output_type": "execute_result"
    },
    {
     "data": {
      "image/png": "[encoded data removed]",
      "text/plain": [
       "<Figure size 432x288 with 1 Axes>"
      ]
     },
     "metadata": {},
     "output_type": "display_data"
    }
   ],
   "source": [
    "LABELS = [\"1\",\"2\",\"3\",\"4\",\"5\",\"6\"]\n",
    "fig, axs = plt.subplots()\n",
    "axs.bar(d_ratings_series.keys(), d_ratings_series.values())\n",
    "plt.show"
   ]
  }
 ],
 "metadata": {
  "celltoolbar": "Slideshow",
  "kernelspec": {
   "display_name": "Python 3",
   "language": "python",
   "name": "python3"
  },
  "language_info": {
   "codemirror_mode": {
    "name": "ipython",
    "version": 3
   },
   "file_extension": ".py",
   "mimetype": "text/x-python",
   "name": "python",
   "nbconvert_exporter": "python",
   "pygments_lexer": "ipython3",
   "version": "3.7.3"
  }
 },
 "nbformat": 4,
 "nbformat_minor": 2
}
